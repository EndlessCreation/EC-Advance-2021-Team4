{
 "cells": [
  {
   "cell_type": "code",
   "execution_count": 6,
   "metadata": {},
   "outputs": [],
   "source": [
    "import pandas as pd"
   ]
  },
  {
   "cell_type": "code",
   "execution_count": 7,
   "metadata": {},
   "outputs": [],
   "source": [
    "file = 'C:\\\\Users\\\\daun5\\\\jupyter_notebook\\\\EC-Advance_daun\\\\room_list_Gongneung-dong.csv'"
   ]
  },
  {
   "cell_type": "code",
   "execution_count": 8,
   "metadata": {
    "scrolled": true
   },
   "outputs": [],
   "source": [
    "room_data = pd.read_csv(file, encoding='cp949')"
   ]
  },
  {
   "cell_type": "code",
   "execution_count": 9,
   "metadata": {},
   "outputs": [],
   "source": [
    "def split(x): #price_info 전처리\n",
    "    x = x.replace('[', ' ').replace(\"'\", ' ').replace(']', ' ')\n",
    "    x = x.split(',')\n",
    "    \n",
    "    return x"
   ]
  },
  {
   "cell_type": "code",
   "execution_count": 10,
   "metadata": {
    "scrolled": true
   },
   "outputs": [
    {
     "name": "stderr",
     "output_type": "stream",
     "text": [
      "<ipython-input-10-ea54dfc5b833>:6: SettingWithCopyWarning: \n",
      "A value is trying to be set on a copy of a slice from a DataFrame\n",
      "\n",
      "See the caveats in the documentation: https://pandas.pydata.org/pandas-docs/stable/user_guide/indexing.html#returning-a-view-versus-a-copy\n",
      "  room_data['maintenance_cost_str'][i] = float(data[:-3])\n",
      "<ipython-input-10-ea54dfc5b833>:4: SettingWithCopyWarning: \n",
      "A value is trying to be set on a copy of a slice from a DataFrame\n",
      "\n",
      "See the caveats in the documentation: https://pandas.pydata.org/pandas-docs/stable/user_guide/indexing.html#returning-a-view-versus-a-copy\n",
      "  room_data['maintenance_cost_str'][i] = 0\n"
     ]
    }
   ],
   "source": [
    "i = 0; #관리비 전처리\n",
    "for data in room_data['maintenance_cost_str']:\n",
    "    if data == '없음':\n",
    "        room_data['maintenance_cost_str'][i] = 0\n",
    "    else:\n",
    "        room_data['maintenance_cost_str'][i] = float(data[:-3])\n",
    "    i = i + 1;"
   ]
  },
  {
   "cell_type": "code",
   "execution_count": 11,
   "metadata": {
    "scrolled": true
   },
   "outputs": [],
   "source": [
    "room_data['monthly_rent'] = room_data['price_info_str'].apply(lambda x:split(x)).str[1]\n",
    "room_data['deposit'] = room_data['price_info_str'].apply(lambda x:split(x)).str[0]\n",
    "#price_info 를 월세와 보증금으로 분리"
   ]
  },
  {
   "cell_type": "code",
   "execution_count": 12,
   "metadata": {
    "scrolled": true
   },
   "outputs": [],
   "source": [
    "room_data.insert(6, 'monthly_total', 0.0)\n",
    "#월세+관리비 총합으로 monthly_total 열 만듦"
   ]
  },
  {
   "cell_type": "code",
   "execution_count": 13,
   "metadata": {
    "scrolled": true
   },
   "outputs": [],
   "source": [
    "room_data['maintenance_cost_str'] = pd.to_numeric(room_data['maintenance_cost_str'])\n",
    "room_data['monthly_rent'] = pd.to_numeric(room_data['monthly_rent'])\n",
    "i = 0;\n",
    "for j in room_data['deposit']:\n",
    "    if('억' in j):\n",
    "        room_data['deposit'][i] = room_data['deposit'][i].replace('억', ' ')\n",
    "        room_data['deposit'][i] = room_data['deposit'][i].replace(' ', '')\n",
    "    i += 1\n",
    "room_data['deposit'] = pd.to_numeric(room_data['deposit'])\n",
    "#관리비, 월세, 보증금 문자형을 숫자형으로 변환"
   ]
  },
  {
   "cell_type": "code",
   "execution_count": 14,
   "metadata": {
    "scrolled": true
   },
   "outputs": [
    {
     "name": "stderr",
     "output_type": "stream",
     "text": [
      "<ipython-input-14-2c63176b6ed5>:3: SettingWithCopyWarning: \n",
      "A value is trying to be set on a copy of a slice from a DataFrame\n",
      "\n",
      "See the caveats in the documentation: https://pandas.pydata.org/pandas-docs/stable/user_guide/indexing.html#returning-a-view-versus-a-copy\n",
      "  room_data['monthly_total'][i] = room_data['monthly_rent'][i] + room_data['maintenance_cost_str'][i]\n"
     ]
    }
   ],
   "source": [
    "i = 0;\n",
    "for j in room_data['room_id']:\n",
    "    room_data['monthly_total'][i] = room_data['monthly_rent'][i] + room_data['maintenance_cost_str'][i]\n",
    "    i += 1\n",
    "#보증금+월세해서 monthly_total에 대입"
   ]
  },
  {
   "cell_type": "code",
   "execution_count": 15,
   "metadata": {},
   "outputs": [],
   "source": [
    "room_data = room_data.drop(columns=['price_info_str', 'maintenance_cost_str', 'monthly_rent'], axis=1)"
   ]
  },
  {
   "cell_type": "code",
   "execution_count": 16,
   "metadata": {
    "scrolled": true
   },
   "outputs": [
    {
     "name": "stderr",
     "output_type": "stream",
     "text": [
      "<ipython-input-16-1929a96226b7>:8: SettingWithCopyWarning: \n",
      "A value is trying to be set on a copy of a slice from a DataFrame\n",
      "\n",
      "See the caveats in the documentation: https://pandas.pydata.org/pandas-docs/stable/user_guide/indexing.html#returning-a-view-versus-a-copy\n",
      "  room_data['room_floor_str'][j] = i.replace('층', ' ')\n",
      "<ipython-input-16-1929a96226b7>:6: SettingWithCopyWarning: \n",
      "A value is trying to be set on a copy of a slice from a DataFrame\n",
      "\n",
      "See the caveats in the documentation: https://pandas.pydata.org/pandas-docs/stable/user_guide/indexing.html#returning-a-view-versus-a-copy\n",
      "  room_data['room_floor_str'][j] = -1\n"
     ]
    }
   ],
   "source": [
    "j = 0 \n",
    "for i in room_data['room_floor_str']: #층수 전처리 중층은 삭제, 반지층은 -1로\n",
    "    if (i == '중층'):\n",
    "        room_data = room_data.drop(index = [j], axis = 0)\n",
    "    elif (i == '반지층'):\n",
    "        room_data['room_floor_str'][j] = -1\n",
    "    else:\n",
    "        room_data['room_floor_str'][j] = i.replace('층', ' ')\n",
    "    j += 1\n",
    "room_data['room_floor_str'] = pd.to_numeric(room_data['room_floor_str'])"
   ]
  },
  {
   "cell_type": "code",
   "execution_count": 18,
   "metadata": {
    "scrolled": true
   },
   "outputs": [
    {
     "data": {
      "text/html": [
       "<div>\n",
       "<style scoped>\n",
       "    .dataframe tbody tr th:only-of-type {\n",
       "        vertical-align: middle;\n",
       "    }\n",
       "\n",
       "    .dataframe tbody tr th {\n",
       "        vertical-align: top;\n",
       "    }\n",
       "\n",
       "    .dataframe thead th {\n",
       "        text-align: right;\n",
       "    }\n",
       "</style>\n",
       "<table border=\"1\" class=\"dataframe\">\n",
       "  <thead>\n",
       "    <tr style=\"text-align: right;\">\n",
       "      <th></th>\n",
       "      <th>room_id</th>\n",
       "      <th>room_size</th>\n",
       "      <th>room_floor_str</th>\n",
       "      <th>room_options</th>\n",
       "      <th>monthly_total</th>\n",
       "      <th>direction_str</th>\n",
       "      <th>building_approval_date_str</th>\n",
       "      <th>deposit</th>\n",
       "    </tr>\n",
       "  </thead>\n",
       "  <tbody>\n",
       "    <tr>\n",
       "      <th>0</th>\n",
       "      <td>61318646c5d09b5e1b68fdda</td>\n",
       "      <td>19.83</td>\n",
       "      <td>2</td>\n",
       "      <td>['신발장', '인덕션', '전자도어락']</td>\n",
       "      <td>40.0</td>\n",
       "      <td>동</td>\n",
       "      <td>2004.02.26</td>\n",
       "      <td>500</td>\n",
       "    </tr>\n",
       "    <tr>\n",
       "      <th>1</th>\n",
       "      <td>6130637514ec260c50318df4</td>\n",
       "      <td>19.83</td>\n",
       "      <td>3</td>\n",
       "      <td>['옷장', '신발장', '인덕션', '전자레인지']</td>\n",
       "      <td>54.0</td>\n",
       "      <td>남서</td>\n",
       "      <td>2012.10.24</td>\n",
       "      <td>100</td>\n",
       "    </tr>\n",
       "    <tr>\n",
       "      <th>2</th>\n",
       "      <td>6131e5ca24c0635678e22e80</td>\n",
       "      <td>17.27</td>\n",
       "      <td>10</td>\n",
       "      <td>['신발장', '인덕션', '전자도어락']</td>\n",
       "      <td>66.0</td>\n",
       "      <td>북</td>\n",
       "      <td>2016.02.05</td>\n",
       "      <td>1000</td>\n",
       "    </tr>\n",
       "    <tr>\n",
       "      <th>3</th>\n",
       "      <td>61163cb6a5d8fd259e38b6c1</td>\n",
       "      <td>33.05</td>\n",
       "      <td>4</td>\n",
       "      <td>['책상', '옷장', '신발장', '가스레인지', '전자레인지', '전자도어락']</td>\n",
       "      <td>54.0</td>\n",
       "      <td>남</td>\n",
       "      <td>2012.07.31</td>\n",
       "      <td>1000</td>\n",
       "    </tr>\n",
       "    <tr>\n",
       "      <th>4</th>\n",
       "      <td>612c5be69b1c061b93396d0d</td>\n",
       "      <td>26.44</td>\n",
       "      <td>1</td>\n",
       "      <td>['가스레인지']</td>\n",
       "      <td>25.0</td>\n",
       "      <td>동</td>\n",
       "      <td>1975.11.29</td>\n",
       "      <td>2000</td>\n",
       "    </tr>\n",
       "    <tr>\n",
       "      <th>...</th>\n",
       "      <td>...</td>\n",
       "      <td>...</td>\n",
       "      <td>...</td>\n",
       "      <td>...</td>\n",
       "      <td>...</td>\n",
       "      <td>...</td>\n",
       "      <td>...</td>\n",
       "      <td>...</td>\n",
       "    </tr>\n",
       "    <tr>\n",
       "      <th>199</th>\n",
       "      <td>613703a6d2991e74b02b741f</td>\n",
       "      <td>16.52</td>\n",
       "      <td>-1</td>\n",
       "      <td>['책상', '옷장', '신발장', '인덕션', '전자레인지', '전자도어락']</td>\n",
       "      <td>33.0</td>\n",
       "      <td>NaN</td>\n",
       "      <td>-</td>\n",
       "      <td>200</td>\n",
       "    </tr>\n",
       "    <tr>\n",
       "      <th>200</th>\n",
       "      <td>6049cd82db47993cca255b69</td>\n",
       "      <td>16.52</td>\n",
       "      <td>2</td>\n",
       "      <td>['책상', '옷장', '신발장', '가스레인지', '인덕션', '전자레인지', '...</td>\n",
       "      <td>35.0</td>\n",
       "      <td>NaN</td>\n",
       "      <td>-</td>\n",
       "      <td>300</td>\n",
       "    </tr>\n",
       "    <tr>\n",
       "      <th>201</th>\n",
       "      <td>613592cfd9d61b4af84dccb5</td>\n",
       "      <td>17.00</td>\n",
       "      <td>6</td>\n",
       "      <td>['옷장', '신발장', '가스레인지', '전자도어락']</td>\n",
       "      <td>40.0</td>\n",
       "      <td>NaN</td>\n",
       "      <td>-</td>\n",
       "      <td>500</td>\n",
       "    </tr>\n",
       "    <tr>\n",
       "      <th>202</th>\n",
       "      <td>566537acf3242d794152a719</td>\n",
       "      <td>23.10</td>\n",
       "      <td>3</td>\n",
       "      <td>['책상', '옷장', '신발장', '인덕션', '전자도어락', '전자레인지', '...</td>\n",
       "      <td>50.0</td>\n",
       "      <td>NaN</td>\n",
       "      <td>-</td>\n",
       "      <td>500</td>\n",
       "    </tr>\n",
       "    <tr>\n",
       "      <th>203</th>\n",
       "      <td>600d27e4cd0462106b0d2fb2</td>\n",
       "      <td>13.22</td>\n",
       "      <td>1</td>\n",
       "      <td>['신발장', '인덕션', '전자도어락']</td>\n",
       "      <td>39.0</td>\n",
       "      <td>NaN</td>\n",
       "      <td>-</td>\n",
       "      <td>300</td>\n",
       "    </tr>\n",
       "  </tbody>\n",
       "</table>\n",
       "<p>198 rows × 8 columns</p>\n",
       "</div>"
      ],
      "text/plain": [
       "                      room_id  room_size  room_floor_str  \\\n",
       "0    61318646c5d09b5e1b68fdda      19.83               2   \n",
       "1    6130637514ec260c50318df4      19.83               3   \n",
       "2    6131e5ca24c0635678e22e80      17.27              10   \n",
       "3    61163cb6a5d8fd259e38b6c1      33.05               4   \n",
       "4    612c5be69b1c061b93396d0d      26.44               1   \n",
       "..                        ...        ...             ...   \n",
       "199  613703a6d2991e74b02b741f      16.52              -1   \n",
       "200  6049cd82db47993cca255b69      16.52               2   \n",
       "201  613592cfd9d61b4af84dccb5      17.00               6   \n",
       "202  566537acf3242d794152a719      23.10               3   \n",
       "203  600d27e4cd0462106b0d2fb2      13.22               1   \n",
       "\n",
       "                                          room_options  monthly_total  \\\n",
       "0                              ['신발장', '인덕션', '전자도어락']           40.0   \n",
       "1                        ['옷장', '신발장', '인덕션', '전자레인지']           54.0   \n",
       "2                              ['신발장', '인덕션', '전자도어락']           66.0   \n",
       "3       ['책상', '옷장', '신발장', '가스레인지', '전자레인지', '전자도어락']           54.0   \n",
       "4                                            ['가스레인지']           25.0   \n",
       "..                                                 ...            ...   \n",
       "199       ['책상', '옷장', '신발장', '인덕션', '전자레인지', '전자도어락']           33.0   \n",
       "200  ['책상', '옷장', '신발장', '가스레인지', '인덕션', '전자레인지', '...           35.0   \n",
       "201                    ['옷장', '신발장', '가스레인지', '전자도어락']           40.0   \n",
       "202  ['책상', '옷장', '신발장', '인덕션', '전자도어락', '전자레인지', '...           50.0   \n",
       "203                            ['신발장', '인덕션', '전자도어락']           39.0   \n",
       "\n",
       "    direction_str building_approval_date_str  deposit  \n",
       "0               동                 2004.02.26      500  \n",
       "1              남서                 2012.10.24      100  \n",
       "2               북                 2016.02.05     1000  \n",
       "3               남                 2012.07.31     1000  \n",
       "4               동                 1975.11.29     2000  \n",
       "..            ...                        ...      ...  \n",
       "199           NaN                          -      200  \n",
       "200           NaN                          -      300  \n",
       "201           NaN                          -      500  \n",
       "202           NaN                          -      500  \n",
       "203           NaN                          -      300  \n",
       "\n",
       "[198 rows x 8 columns]"
      ]
     },
     "execution_count": 18,
     "metadata": {},
     "output_type": "execute_result"
    }
   ],
   "source": [
    "room_data"
   ]
  },
  {
   "cell_type": "code",
   "execution_count": null,
   "metadata": {},
   "outputs": [],
   "source": []
  }
 ],
 "metadata": {
  "kernelspec": {
   "display_name": "Python 3",
   "language": "python",
   "name": "python3"
  },
  "language_info": {
   "codemirror_mode": {
    "name": "ipython",
    "version": 3
   },
   "file_extension": ".py",
   "mimetype": "text/x-python",
   "name": "python",
   "nbconvert_exporter": "python",
   "pygments_lexer": "ipython3",
   "version": "3.8.5"
  }
 },
 "nbformat": 4,
 "nbformat_minor": 4
}
