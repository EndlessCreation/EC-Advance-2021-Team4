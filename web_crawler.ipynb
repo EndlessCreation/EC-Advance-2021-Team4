{
 "cells": [
  {
   "cell_type": "code",
   "execution_count": 1,
   "metadata": {
    "scrolled": false
   },
   "outputs": [],
   "source": [
    "import csv\n",
    "import json\n",
    "import requests\n",
    "\n",
    "lastpage = 30 \n",
    "\n",
    "room_list = [{'room_id' : 'room_id'}]"
   ]
  },
  {
   "cell_type": "code",
   "execution_count": 2,
   "metadata": {},
   "outputs": [],
   "source": [
    "for page in range(1,lastpage+1):\n",
    "    req = requests.get(f'https://www.dabangapp.com/api/3/room/list/multi-room/bbox?api_version=3.0.1&call_type=web&filters=%7B%22multi_room_type%22%3A%5B0%5D%2C%22selling_type%22%3A%5B0%5D%2C%22deposit_range%22%3A%5B0%2C999999%5D%2C%22price_range%22%3A%5B0%2C999999%5D%2C%22trade_range%22%3A%5B0%2C999999%5D%2C%22maintenance_cost_range%22%3A%5B0%2C999999%5D%2C%22room_size%22%3A%5B0%2C999999%5D%2C%22supply_space_range%22%3A%5B0%2C999999%5D%2C%22room_floor_multi%22%3A%5B1%2C2%2C3%2C4%2C5%2C6%2C7%2C-1%2C0%5D%2C%22division%22%3Afalse%2C%22duplex%22%3Afalse%2C%22room_type%22%3A%5B%5D%2C%22use_approval_date_range%22%3A%5B0%2C999999%5D%2C%22parking_average_range%22%3A%5B0%2C999999%5D%2C%22household_num_range%22%3A%5B0%2C999999%5D%2C%22parking%22%3Afalse%2C%22short_lease%22%3Afalse%2C%22full_option%22%3Afalse%2C%22built_in%22%3Afalse%2C%22elevator%22%3Afalse%2C%22balcony%22%3Afalse%2C%22safety%22%3Afalse%2C%22pano%22%3Afalse%2C%22deal_type%22%3A%5B0%2C1%5D%7D&location=%5B%5B127.0087979%2C37.6012545%5D%2C%5B127.1461271%2C37.7090268%5D%5D&page={page}&version=1&zoom=13')\n",
    "\n",
    "    data = req.json()\n",
    "\n",
    "    for room in data['rooms']:\n",
    "        room_list.append(\n",
    "            {\n",
    "                'room_id' : room['id']\n",
    "            }\n",
    "        )"
   ]
  },
  {
   "cell_type": "code",
   "execution_count": 3,
   "metadata": {},
   "outputs": [],
   "source": [
    "with open('C:/Users/daun5/jupyter_notebook/room_list_공릉동.csv', mode = 'w', newline='') as room_lists:\n",
    "    room_writer = csv.writer(room_lists)\n",
    "\n",
    "    for room in room_list:\n",
    "        room_writer.writerow([room['room_id']])\n"
   ]
  },
  {
   "cell_type": "code",
   "execution_count": 4,
   "metadata": {},
   "outputs": [],
   "source": [
    "import pandas as pd"
   ]
  },
  {
   "cell_type": "code",
   "execution_count": 5,
   "metadata": {},
   "outputs": [],
   "source": [
    "data_id = pd.read_csv('C:/Users/daun5/jupyter_notebook/room_list_공릉동.csv')"
   ]
  },
  {
   "cell_type": "code",
   "execution_count": 8,
   "metadata": {
    "scrolled": true
   },
   "outputs": [
    {
     "ename": "KeyError",
     "evalue": "'deposit'",
     "output_type": "error",
     "traceback": [
      "\u001b[1;31m---------------------------------------------------------------------------\u001b[0m",
      "\u001b[1;31mKeyError\u001b[0m                                  Traceback (most recent call last)",
      "\u001b[1;32m<ipython-input-8-648fcff3f4c6>\u001b[0m in \u001b[0;36m<module>\u001b[1;34m\u001b[0m\n\u001b[0;32m     28\u001b[0m     \u001b[1;32mfor\u001b[0m \u001b[0mroom\u001b[0m \u001b[1;32min\u001b[0m \u001b[0mroom_list_detail\u001b[0m\u001b[1;33m:\u001b[0m\u001b[1;33m\u001b[0m\u001b[1;33m\u001b[0m\u001b[0m\n\u001b[0;32m     29\u001b[0m         room_writer.writerow([room['room_id'], room['price_info_str'], room['room_size'], \n\u001b[1;32m---> 30\u001b[1;33m                               room['maintenance_cost_str'], room['deposit'], room['monthly_rent']])\n\u001b[0m",
      "\u001b[1;31mKeyError\u001b[0m: 'deposit'"
     ]
    }
   ],
   "source": [
    "room_list_detail = [{'room_id' : 'room_id', \n",
    "                     'price_info_str' : 'price_info_str',\n",
    "                     'room_size' : 'room_size', \n",
    "                     'maintenance_cost_str' : 'maintenance_cost_str', \n",
    "                     'deposit' : 'deposit',\n",
    "                     'monthly_rent' : 'monthly_rent'\n",
    "                    }]\n",
    "\n",
    "for data in data_id['room_id']:\n",
    "        req = requests.get(f'https://www.dabangapp.com/api/3/room/detail2?api_version=3.0.1&call_type=web&room_id={data}&version=1')\n",
    "\n",
    "        data_detail_req = req.json() \n",
    "        data_detail = data_detail_req['room']\n",
    "        \n",
    "        \n",
    "        room_list_detail.append(\n",
    "             {\n",
    "                 'room_id' : data_detail['id'],\n",
    "                 'price_info_str' : data_detail['price_info_str'],\n",
    "                 'room_size' : data_detail['room_size'],\n",
    "                 'maintenance_cost_str' : data_detail['maintenance_cost_str']\n",
    "             }\n",
    "        )\n",
    "\n",
    "with open('C:/Users/daun5/jupyter_notebook/room_list_공릉동.csv', mode = 'w', newline='') as room_lists:\n",
    "    room_writer = csv.writer(room_lists)\n",
    "\n",
    "    for room in room_list_detail:\n",
    "        room_writer.writerow([room['room_id'], room['price_info_str'], room['room_size'], \n",
    "                              room['maintenance_cost_str'], room['deposit'], room['monthly_rent']])\n"
   ]
  },
  {
   "cell_type": "code",
   "execution_count": null,
   "metadata": {},
   "outputs": [],
   "source": []
  }
 ],
 "metadata": {
  "kernelspec": {
   "display_name": "Python 3",
   "language": "python",
   "name": "python3"
  },
  "language_info": {
   "codemirror_mode": {
    "name": "ipython",
    "version": 3
   },
   "file_extension": ".py",
   "mimetype": "text/x-python",
   "name": "python",
   "nbconvert_exporter": "python",
   "pygments_lexer": "ipython3",
   "version": "3.8.5"
  }
 },
 "nbformat": 4,
 "nbformat_minor": 4
}
